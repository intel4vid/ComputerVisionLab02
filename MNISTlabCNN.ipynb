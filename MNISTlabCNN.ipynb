{
 "cells": [
  {
   "cell_type": "markdown",
   "metadata": {},
   "source": [
    "# Computer Vision Lab\n",
    "\n",
    "## 1. Introduction\n",
    "\n",
    "This hands on lab will introduce you with the concept of convolutional neural networks used for image classification. Our goal will be to build a ConvNet with the high level of accuracy. Convolutional networks provide a machinery to learn these filters from the data directly instead of explicit mathematical models and have been found to be superior (in real world tasks) compared to historically crafted filters.  With convolutional networks, the focus is on learning the filter weights instead of learning individually fully connected pair-wise (between inputs and outputs) weights.\n",
    "\n",
    "The MNIST dataset consisting of images of handwritten numbers from 0 to 9 will be used as a training, validation and test dataset. Data set is shown below.\n",
    "\n",
    "<br>\n",
    "<img src=\"http://petr-marek.com/wp-content/uploads/2017/07/mnist.png\" width=\"480\">\n",
    "<br><br>\n",
    "\n",
    "Keras API with Tensorflow or CNTK as a backend will be used to build the CNN network. Before building and training a network you will be dealing with MNIST data analysis, visualisation and preprocessing. After preparing the data a process of designing, building and evaluating the network will be performed. We will experiment with different models by changing their parameters."
   ]
  },
  {
   "cell_type": "code",
   "execution_count": 37,
   "metadata": {},
   "outputs": [],
   "source": [
    "import pandas as pd\n",
    "import numpy as np\n",
    "import matplotlib.pyplot as plt\n",
    "#import matplotlib.image as mpimg\n",
    "import seaborn as sns\n",
    "\n",
    "#np.random.seed(2)\n",
    "\n",
    "from sklearn.model_selection import train_test_split\n",
    "from sklearn.metrics import confusion_matrix\n",
    "#import itertools\n",
    "\n",
    "from keras.utils import to_categorical\n",
    "from keras.models import Sequential\n",
    "from keras.layers import Dense, Dropout, Flatten, Conv2D\n",
    "from keras.optimizers import RMSprop\n",
    "from keras.datasets import mnist\n",
    "#from keras.preprocessing.image import ImageDataGenerator\n",
    "#from keras.callbacks import ReduceLROnPlateau"
   ]
  },
  {
   "cell_type": "markdown",
   "metadata": {},
   "source": [
    "## 2. Data download\n",
    "\n",
    "The MNIST database contains standard handwritten digits that have been widely used for training and testing of machine learning algorithms. It has a training set of 60,000 images and a test set of 10,000 images with each image being 28 x 28 pixels. This set is easy to use visualize and train on any computer. The MNIST dataset is usually provided and downloadable as part of the Keras library.\n"
   ]
  },
  {
   "cell_type": "code",
   "execution_count": 38,
   "metadata": {},
   "outputs": [],
   "source": [
    "#download MNIST data and split into train and test sets\n",
    "(X_train, y_train), (X_test, y_test) = mnist.load_data()"
   ]
  },
  {
   "cell_type": "markdown",
   "metadata": {},
   "source": [
    "Example of a CNTK based function used for downloading the MNIST dataset. Comparing this function with the Keras option clearly shows the difference, simplicity and usability of Keras module.\n",
    "\n",
    "<img src=\"images/mnistdownload.png\">"
   ]
  },
  {
   "cell_type": "markdown",
   "metadata": {},
   "source": [
    "## Explore the train and test data"
   ]
  },
  {
   "cell_type": "code",
   "execution_count": 39,
   "metadata": {
    "scrolled": true
   },
   "outputs": [
    {
     "name": "stdout",
     "output_type": "stream",
     "text": [
      "The shape of training set is: (60000, 28, 28)\n",
      "The shape of test set is: (10000, 28, 28)\n",
      "\n",
      "The size of training set is: 45937.5 kB\n",
      "The size of test set is: 7656.25 kB\n",
      "\n",
      "The training set is: 3 - dimensional array\n",
      "The test set is: 3 - dimensional array\n",
      "\n",
      "The training set type is: uint8\n",
      "The test set type is: uint8\n",
      "\n"
     ]
    }
   ],
   "source": [
    "#check the shape, size and dtype of loaded dataset\n",
    "print(f'The shape of training set is: {X_train.shape}')\n",
    "print(f'The shape of test set is: {X_test.shape}\\n')\n",
    "\n",
    "print(f'The size of training set is: {X_train.size/1024} kB')\n",
    "print(f'The size of test set is: {X_test.size/1024} kB\\n')\n",
    "\n",
    "\n",
    "print(f'The training set is: {X_train.ndim} - dimensional array')\n",
    "print(f'The test set is: {X_test.ndim} - dimensional array\\n')\n",
    "\n",
    "print(f'The training set type is: {X_train.dtype}')\n",
    "print(f'The test set type is: {X_test.dtype}\\n')"
   ]
  },
  {
   "cell_type": "markdown",
   "metadata": {},
   "source": [
    "Explore the label dataset"
   ]
  },
  {
   "cell_type": "code",
   "execution_count": 40,
   "metadata": {},
   "outputs": [],
   "source": [
    "#chek the shape, size, number of dimensions and dtype of loaded labels dataset\n",
    "#insert your code below\n",
    "\n"
   ]
  },
  {
   "cell_type": "markdown",
   "metadata": {},
   "source": [
    "## Visualize training data from MNIST dateset"
   ]
  },
  {
   "cell_type": "code",
   "execution_count": 41,
   "metadata": {
    "scrolled": true
   },
   "outputs": [
    {
     "name": "stdout",
     "output_type": "stream",
     "text": [
      "Sample number is 53141\n",
      "\n",
      "Image number 53141 in MNIST dataset has the following (28, 28)\n",
      "\n",
      "Shape of the image is (28, 28) and image is <class 'numpy.ndarray'> array\n",
      "\n"
     ]
    }
   ],
   "source": [
    "# Plot a random image from the training set \n",
    "# np.random.randint returns random integers between 0 and 59999.\n",
    "sampleNo = np.random.randint(0,59999)\n",
    "print(f'Sample number is {sampleNo}\\n')\n",
    "sampleImg=X_train[sampleNo]\n",
    "print(f'Image number {sampleNo} in MNIST dataset has the following {sampleImg.shape}\\n')\n",
    "#print(sampleImg,'\\n')\n",
    "print(f'Shape of the image is {sampleImg.shape} and image is {type(sampleImg)} array\\n')"
   ]
  },
  {
   "cell_type": "markdown",
   "metadata": {},
   "source": [
    "It can be helpful to plot and visualise the data before proceeding with further data handling and model design. This can help us avoid issues later during the model training. "
   ]
  },
  {
   "cell_type": "code",
   "execution_count": 42,
   "metadata": {},
   "outputs": [
    {
     "name": "stdout",
     "output_type": "stream",
     "text": [
      "0 AxesSubplot(0.125,0.125;0.110714x0.755)\n",
      "1 AxesSubplot(0.257857,0.125;0.110714x0.755)\n",
      "2 AxesSubplot(0.390714,0.125;0.110714x0.755)\n",
      "3 AxesSubplot(0.523571,0.125;0.110714x0.755)\n",
      "4 AxesSubplot(0.656429,0.125;0.110714x0.755)\n",
      "5 AxesSubplot(0.789286,0.125;0.110714x0.755)\n"
     ]
    },
    {
     "data": {
      "image/png": "[encoded data removed]",
      "text/plain": [
       "<Figure size 432x288 with 6 Axes>"
      ]
     },
     "metadata": {
      "needs_background": "light"
     },
     "output_type": "display_data"
    }
   ],
   "source": [
    "#plt.imshow(X_train[sampleNo,:,:].reshape(28,28), )\n",
    "#plt.imshow(sampleImg, cmap='gray')\n",
    "#plt.axis('off')\n",
    "#print(\"Image label: \", y_train[sampleNo])\n",
    "\n",
    "fig,axes=plt.subplots(nrows=1,ncols=6)\n",
    "for i,ax in enumerate(axes):\n",
    "    print(i, ax)\n",
    "    ax.imshow(X_train[i], cmap=\"gray\")\n",
    "    ax.axis('off')    \n",
    "plt.show()"
   ]
  },
  {
   "cell_type": "markdown",
   "metadata": {},
   "source": [
    "The shape of images in MNIST dataset is 28 x 28 x 1 pixels which means that the convolutional neural network will be able to run over each image in our dataset pretty fast."
   ]
  },
  {
   "cell_type": "markdown",
   "metadata": {},
   "source": [
    "## Visualize labels from training data set"
   ]
  },
  {
   "cell_type": "markdown",
   "metadata": {},
   "source": [
    "For visualisation of labels data we'll perform transformation to Pandas data frame."
   ]
  },
  {
   "cell_type": "code",
   "execution_count": 43,
   "metadata": {},
   "outputs": [],
   "source": [
    "y_trains=pd.Series(y_train)"
   ]
  },
  {
   "cell_type": "code",
   "execution_count": 44,
   "metadata": {},
   "outputs": [
    {
     "name": "stdout",
     "output_type": "stream",
     "text": [
      "1    6742\n",
      "7    6265\n",
      "3    6131\n",
      "2    5958\n",
      "9    5949\n",
      "0    5923\n",
      "6    5918\n",
      "8    5851\n",
      "4    5842\n",
      "5    5421\n",
      "dtype: int64\n"
     ]
    }
   ],
   "source": [
    "# show the frequency distribution of label values \n",
    "print(y_trains.value_counts())"
   ]
  },
  {
   "cell_type": "code",
   "execution_count": 45,
   "metadata": {},
   "outputs": [
    {
     "name": "stdout",
     "output_type": "stream",
     "text": [
      "count    60000.000000\n",
      "mean         4.453933\n",
      "std          2.889270\n",
      "min          0.000000\n",
      "25%          2.000000\n",
      "50%          4.000000\n",
      "75%          7.000000\n",
      "max          9.000000\n",
      "dtype: float64\n"
     ]
    }
   ],
   "source": [
    "#show statistics \n",
    "print(y_trains.describe())"
   ]
  },
  {
   "cell_type": "markdown",
   "metadata": {},
   "source": [
    "## Plot the frequency distribution of training label values"
   ]
  },
  {
   "cell_type": "code",
   "execution_count": 46,
   "metadata": {
    "scrolled": true
   },
   "outputs": [
    {
     "data": {
      "image/png": "[encoded data removed]",
      "text/plain": [
       "<Figure size 432x288 with 1 Axes>"
      ]
     },
     "metadata": {
      "needs_background": "light"
     },
     "output_type": "display_data"
    }
   ],
   "source": [
    "g = sns.countplot(y_trains)"
   ]
  },
  {
   "cell_type": "markdown",
   "metadata": {},
   "source": [
    "## Plot the frequency distribution of test label values"
   ]
  },
  {
   "cell_type": "code",
   "execution_count": 47,
   "metadata": {},
   "outputs": [
    {
     "data": {
      "image/png": "[encoded data removed]",
      "text/plain": [
       "<Figure size 432x288 with 1 Axes>"
      ]
     },
     "metadata": {
      "needs_background": "light"
     },
     "output_type": "display_data"
    }
   ],
   "source": [
    "y_tests=pd.Series(y_train)\n",
    "g = sns.countplot(y_tests)"
   ]
  },
  {
   "cell_type": "markdown",
   "metadata": {},
   "source": [
    "## Preprocessing of training and test data\n",
    "This step requires declaring a dimension for the depth of the input image. As shown previosly images in our data set have the following shape (60000, 28, 28). The first parameters reffers to number of images in dataset and other two parameters represent image width and image height. Hence, the depth parameter for images is missing. In this case depth is 1 because we are working with grayscale images. In case of color images the depth parameter would be 3. "
   ]
  },
  {
   "cell_type": "code",
   "execution_count": 48,
   "metadata": {},
   "outputs": [],
   "source": [
    "# Reshapes data\n",
    "x_train = X_train.reshape(X_train.shape[0], 28, 28, 1)\n",
    "x_test = X_test.reshape(X_test.shape[0], 28, 28, 1)"
   ]
  },
  {
   "cell_type": "markdown",
   "metadata": {},
   "source": [
    "The final preprocessing step for the input data is to convert our data type to float32 and normalize our data values to the range [0, 1]"
   ]
  },
  {
   "cell_type": "code",
   "execution_count": 49,
   "metadata": {
    "scrolled": true
   },
   "outputs": [
    {
     "name": "stdout",
     "output_type": "stream",
     "text": [
      "Original training data shape: (60000, 28, 28)\n",
      "New training data shape: (60000, 28, 28, 1)\n",
      "60000 train samples\n",
      "10000 test samples\n"
     ]
    }
   ],
   "source": [
    "x_train = x_train.astype('float32')\n",
    "x_test = x_test.astype('float32')\n",
    "x_train /= 255\n",
    "x_test /= 255\n",
    "print('Original training data shape:', X_train.shape)\n",
    "print('New training data shape:', x_train.shape)\n",
    "print(x_train.shape[0], 'train samples')\n",
    "print(x_test.shape[0], 'test samples')"
   ]
  },
  {
   "cell_type": "markdown",
   "metadata": {},
   "source": [
    "## Preprocessing of labels data"
   ]
  },
  {
   "cell_type": "markdown",
   "metadata": {},
   "source": [
    "Before proceeding with preprocessing let's us check once again attributes of our labels"
   ]
  },
  {
   "cell_type": "code",
   "execution_count": 50,
   "metadata": {},
   "outputs": [
    {
     "name": "stdout",
     "output_type": "stream",
     "text": [
      "The shape of training set is: (60000,)\n",
      "The shape of test set is: (10000,)\n",
      "\n",
      "The size of training set is: 58.59375 kB\n",
      "The size of test set is: 9.765625 kB\n",
      "\n",
      "The training set is: 1 - dimensional array\n",
      "The test set is: 1 - dimensional array\n",
      "\n",
      "The training set type is: uint8\n",
      "The test set type is: uint8\n",
      "\n"
     ]
    }
   ],
   "source": [
    "#chek the shape, size and dtype of labels in dataset\n",
    "print(f'The shape of training set is: {y_train.shape}')\n",
    "print(f'The shape of test set is: {y_test.shape}\\n')\n",
    "\n",
    "print(f'The size of training set is: {y_train.size/1024} kB')\n",
    "print(f'The size of test set is: {y_test.size/1024} kB\\n')\n",
    "\n",
    "\n",
    "print(f'The training set is: {y_train.ndim} - dimensional array')\n",
    "print(f'The test set is: {y_test.ndim} - dimensional array\\n')\n",
    "\n",
    "print(f'The training set type is: {y_train.dtype}')\n",
    "print(f'The test set type is: {y_test.dtype}\\n')"
   ]
  },
  {
   "cell_type": "markdown",
   "metadata": {},
   "source": [
    "First ten labels of our data is:"
   ]
  },
  {
   "cell_type": "code",
   "execution_count": 51,
   "metadata": {},
   "outputs": [
    {
     "name": "stdout",
     "output_type": "stream",
     "text": [
      "0    5\n",
      "1    0\n",
      "2    4\n",
      "3    1\n",
      "4    9\n",
      "dtype: uint8\n",
      "[5 0 4 1 9 2 1 3 1 4 3 5 3 6 1 7 2 8 6 9 4 0 9 1 1 2 4 3 2 7 3 8 6 9 0 5 6\n",
      " 0 7 6 1 8 7 9 3 9 8 5 9 3 3 0 7 4 9 8 0 9 4 1 4 4 6 0 4 5 6 1 0 0 1 7 1 6\n",
      " 3 0 2 1 1 7 9 0 2 6 7 8 3 9 0 4 6 7 4 6 8 0 7 8 3 1]\n"
     ]
    }
   ],
   "source": [
    "#labels in the training dataset using pandas data series\n",
    "print(y_trains.head(5))\n",
    "\n",
    "#or numpy arrays\n",
    "print(y_train[:100])\n"
   ]
  },
  {
   "cell_type": "markdown",
   "metadata": {},
   "source": [
    "The y_train and y_test data are not split into 10 distinct class labels, but rather are represented as a single array with the class values. Thus, we need to preprocess class labels by converting the 1 - dimensional numpy array to 10 - dimensional array.\n",
    "\n",
    "The labels are encoded as [1-hot]( https://en.wikipedia.org/wiki/One-hot) encoding (label of 3 with 10 digits becomes `0001000000`, where the first index corresponds to digit `0` and the last one corresponds to digit `9`.\n",
    "\n",
    "![](https://www.cntk.ai/jup/cntk103a_onehot.png)"
   ]
  },
  {
   "cell_type": "code",
   "execution_count": 52,
   "metadata": {},
   "outputs": [],
   "source": [
    "Y_train = to_categorical(y_train, 10)\n",
    "Y_test = to_categorical(y_test, 10)"
   ]
  },
  {
   "cell_type": "markdown",
   "metadata": {},
   "source": [
    "Check the dimensionality of train and test labels after one hot encoding"
   ]
  },
  {
   "cell_type": "code",
   "execution_count": 53,
   "metadata": {},
   "outputs": [
    {
     "name": "stdout",
     "output_type": "stream",
     "text": [
      "(60000, 10)\n",
      "(10000, 10)\n"
     ]
    }
   ],
   "source": [
    "print(Y_train.shape)\n",
    "print(Y_test.shape)"
   ]
  },
  {
   "cell_type": "markdown",
   "metadata": {},
   "source": [
    "## Convolutional network for image classification\n",
    "Convolutional networks for classification are constructed from a sequence of convolutional layers (for image processing) and fully connected (Dense) layers (for readout). In this exercise, you will construct a small convolutional network for classification of MNIST digits. We will use the Keras library to create neural networks and to train these neural networks to classify images. These models will all be of the Sequential type, meaning that the outputs of one layer are provided as inputs only to the next layer.\n",
    "\n",
    "Add a Conv2D layer to construct the input layer of the network. Use a kernel size of 3 by 3. You can use the img_rows and img_cols objects available in your workspace to define the input_shape of this layer.\n",
    "Add a Flatten layer to translate between the image processing and classification part of your network.\n",
    "Add a Dense layer to classify the 3 different categories of clothing in the dataset.\n",
    "\n",
    "<img src=\"https://cdn-images-1.medium.com/max/1600/1*uAeANQIOQPqWZnnuH-VEyw.jpeg\" width='480'>"
   ]
  },
  {
   "cell_type": "code",
   "execution_count": 54,
   "metadata": {},
   "outputs": [],
   "source": [
    "# Initialize the model object\n",
    "model = Sequential()\n",
    "\n",
    "# Add a convolutional layer\n",
    "model.add(Conv2D(10, kernel_size=3, activation='relu',input_shape=(28,28,1)))\n",
    "#model.add(Dense(10, activation='relu',input_shape=(784,)))\n",
    "\n",
    "# Add pooling layer\n",
    "#model.add(MaxPool2D(2))\n",
    "\n",
    "# Add a dropout layer\n",
    "#model.add(Dropout(0.25))\n",
    "\n",
    "# Add a convolutional layer\n",
    "model.add(Conv2D(3, kernel_size=3, activation='relu'))\n",
    "\n",
    "# Flatten the output of the convolutional layer\n",
    "model.add(Flatten())\n",
    "          \n",
    "# Add an output dense layer \n",
    "model.add(Dense(128, activation='relu'))\n",
    "          \n",
    "# Add an output layer for the 10 categories\n",
    "model.add(Dense(10, activation='softmax'))"
   ]
  },
  {
   "cell_type": "markdown",
   "metadata": {},
   "source": [
    "## Compile a neural network\n",
    "Once you have constructed a model in Keras, the model needs to be compiled before you can fit it to data. This means that you need to specify the optimizer that will be used to fit the model and the loss function that will be used in optimization. Optionally, you can also specify a list of metrics that the model will keep track of. For example, if you want to know the classification accuracy, you will provide the list ['accuracy'] to the metrics keyword argument."
   ]
  },
  {
   "cell_type": "code",
   "execution_count": 55,
   "metadata": {},
   "outputs": [],
   "source": [
    "# Compile the model\n",
    "model.compile(optimizer='adam',loss='categorical_crossentropy',metrics=['accuracy'])"
   ]
  },
  {
   "cell_type": "markdown",
   "metadata": {},
   "source": [
    "## Inspect model"
   ]
  },
  {
   "cell_type": "code",
   "execution_count": 56,
   "metadata": {
    "scrolled": true
   },
   "outputs": [
    {
     "data": {
      "text/plain": [
       "(None, 10)"
      ]
     },
     "execution_count": 56,
     "metadata": {},
     "output_type": "execute_result"
    }
   ],
   "source": [
    "model.output_shape"
   ]
  },
  {
   "cell_type": "markdown",
   "metadata": {},
   "source": [
    "Model summary representation"
   ]
  },
  {
   "cell_type": "code",
   "execution_count": 57,
   "metadata": {},
   "outputs": [
    {
     "name": "stdout",
     "output_type": "stream",
     "text": [
      "_________________________________________________________________\n",
      "Layer (type)                 Output Shape              Param #   \n",
      "=================================================================\n",
      "conv2d_1 (Conv2D)            (None, 26, 26, 10)        100       \n",
      "_________________________________________________________________\n",
      "conv2d_2 (Conv2D)            (None, 24, 24, 3)         273       \n",
      "_________________________________________________________________\n",
      "flatten_1 (Flatten)          (None, 1728)              0         \n",
      "_________________________________________________________________\n",
      "dense_1 (Dense)              (None, 128)               221312    \n",
      "_________________________________________________________________\n",
      "dense_2 (Dense)              (None, 10)                1290      \n",
      "=================================================================\n",
      "Total params: 222,975\n",
      "Trainable params: 222,975\n",
      "Non-trainable params: 0\n",
      "_________________________________________________________________\n"
     ]
    }
   ],
   "source": [
    "model.summary()"
   ]
  },
  {
   "cell_type": "markdown",
   "metadata": {},
   "source": [
    "Model layers are listed in the attribute layers"
   ]
  },
  {
   "cell_type": "code",
   "execution_count": 58,
   "metadata": {},
   "outputs": [
    {
     "data": {
      "text/plain": [
       "[<keras.layers.convolutional.Conv2D at 0x10a07f60>,\n",
       " <keras.layers.convolutional.Conv2D at 0xd0e59b0>,\n",
       " <keras.layers.core.Flatten at 0x1072b6d8>,\n",
       " <keras.layers.core.Dense at 0x1072bba8>,\n",
       " <keras.layers.core.Dense at 0x1072b630>]"
      ]
     },
     "execution_count": 58,
     "metadata": {},
     "output_type": "execute_result"
    }
   ],
   "source": [
    "model.layers"
   ]
  },
  {
   "cell_type": "markdown",
   "metadata": {},
   "source": [
    "Extracting first convolutional layer in the list"
   ]
  },
  {
   "cell_type": "code",
   "execution_count": 59,
   "metadata": {},
   "outputs": [
    {
     "name": "stdout",
     "output_type": "stream",
     "text": [
      "<keras.layers.convolutional.Conv2D object at 0x0000000010A07F60>\n"
     ]
    }
   ],
   "source": [
    "C1=model.layers[0]\n",
    "print(C1)"
   ]
  },
  {
   "cell_type": "markdown",
   "metadata": {},
   "source": [
    "Extracting weights from the first layer"
   ]
  },
  {
   "cell_type": "code",
   "execution_count": 60,
   "metadata": {},
   "outputs": [
    {
     "name": "stdout",
     "output_type": "stream",
     "text": [
      "2\n",
      "[array([[[[ 0.10724622,  0.12876455, -0.23630476,  0.23704785,\n",
      "           0.21944594,  0.22677732,  0.11171313,  0.20475678,\n",
      "          -0.1799205 ,  0.18229474]],\n",
      "\n",
      "        [[-0.07278026, -0.01832407, -0.05308413, -0.06099727,\n",
      "          -0.21510604, -0.2010468 , -0.22330858, -0.10244437,\n",
      "           0.11946714,  0.2349786 ]],\n",
      "\n",
      "        [[ 0.00522762,  0.07026259,  0.19546315, -0.17914459,\n",
      "          -0.11359029,  0.09058209, -0.1777439 ,  0.08796595,\n",
      "           0.00093888, -0.16600871]]],\n",
      "\n",
      "\n",
      "       [[[ 0.01206788,  0.02978343,  0.10591073, -0.11199039,\n",
      "          -0.17919616, -0.2288333 ,  0.17273302, -0.06537592,\n",
      "          -0.22329868,  0.12540734]],\n",
      "\n",
      "        [[-0.2121446 ,  0.13566841,  0.02227484,  0.17359503,\n",
      "           0.13135982,  0.03891265, -0.16972707,  0.1337654 ,\n",
      "          -0.23333636, -0.19324955]],\n",
      "\n",
      "        [[ 0.1252337 ,  0.01255041,  0.07928637,  0.13289475,\n",
      "          -0.13493301,  0.11216734,  0.02025202, -0.05073907,\n",
      "           0.21336216, -0.11238245]]],\n",
      "\n",
      "\n",
      "       [[[-0.1860868 ,  0.21710227,  0.11815878, -0.19795513,\n",
      "          -0.00112492, -0.01654074, -0.21038948,  0.04238199,\n",
      "          -0.07084069, -0.03154923]],\n",
      "\n",
      "        [[ 0.19596548, -0.01826172,  0.08836842, -0.08743905,\n",
      "          -0.03040271,  0.24594164, -0.23408787,  0.15831797,\n",
      "          -0.20581855, -0.03564947]],\n",
      "\n",
      "        [[ 0.14962287,  0.20444338, -0.0764702 ,  0.10628922,\n",
      "          -0.12361395, -0.21724293,  0.09282266,  0.20120217,\n",
      "           0.06614441, -0.19867767]]]], dtype=float32), array([0., 0., 0., 0., 0., 0., 0., 0., 0., 0.], dtype=float32)]\n"
     ]
    }
   ],
   "source": [
    "w1=C1.get_weights()\n",
    "print(len(w1))\n",
    "print(w1)"
   ]
  },
  {
   "cell_type": "code",
   "execution_count": 88,
   "metadata": {},
   "outputs": [
    {
     "name": "stdout",
     "output_type": "stream",
     "text": [
      "[[[[ 0.10724622  0.12876455 -0.23630476  0.23704785  0.21944594\n",
      "     0.22677732  0.11171313  0.20475678 -0.1799205   0.18229474]]\n",
      "\n",
      "  [[-0.07278026 -0.01832407 -0.05308413 -0.06099727 -0.21510604\n",
      "    -0.2010468  -0.22330858 -0.10244437  0.11946714  0.2349786 ]]\n",
      "\n",
      "  [[ 0.00522762  0.07026259  0.19546315 -0.17914459 -0.11359029\n",
      "     0.09058209 -0.1777439   0.08796595  0.00093888 -0.16600871]]]\n",
      "\n",
      "\n",
      " [[[ 0.01206788  0.02978343  0.10591073 -0.11199039 -0.17919616\n",
      "    -0.2288333   0.17273302 -0.06537592 -0.22329868  0.12540734]]\n",
      "\n",
      "  [[-0.2121446   0.13566841  0.02227484  0.17359503  0.13135982\n",
      "     0.03891265 -0.16972707  0.1337654  -0.23333636 -0.19324955]]\n",
      "\n",
      "  [[ 0.1252337   0.01255041  0.07928637  0.13289475 -0.13493301\n",
      "     0.11216734  0.02025202 -0.05073907  0.21336216 -0.11238245]]]\n",
      "\n",
      "\n",
      " [[[-0.1860868   0.21710227  0.11815878 -0.19795513 -0.00112492\n",
      "    -0.01654074 -0.21038948  0.04238199 -0.07084069 -0.03154923]]\n",
      "\n",
      "  [[ 0.19596548 -0.01826172  0.08836842 -0.08743905 -0.03040271\n",
      "     0.24594164 -0.23408787  0.15831797 -0.20581855 -0.03564947]]\n",
      "\n",
      "  [[ 0.14962287  0.20444338 -0.0764702   0.10628922 -0.12361395\n",
      "    -0.21724293  0.09282266  0.20120217  0.06614441 -0.19867767]]]]\n"
     ]
    }
   ],
   "source": [
    "k1=w1[0]\n",
    "print(k1)"
   ]
  },
  {
   "cell_type": "markdown",
   "metadata": {},
   "source": [
    "Shape of kernels"
   ]
  },
  {
   "cell_type": "code",
   "execution_count": 89,
   "metadata": {},
   "outputs": [
    {
     "data": {
      "text/plain": [
       "(3, 3, 1, 10)"
      ]
     },
     "execution_count": 89,
     "metadata": {},
     "output_type": "execute_result"
    }
   ],
   "source": [
    "k1.shape"
   ]
  },
  {
   "cell_type": "markdown",
   "metadata": {},
   "source": [
    "The first two dimensions denote the size of kernel or filter. The third dimension determines the number of channels. In case of grayscale images the size is 1. Working with color images would produce the size of 3. The last dimension in kernel is number of filters."
   ]
  },
  {
   "cell_type": "code",
   "execution_count": 90,
   "metadata": {},
   "outputs": [
    {
     "name": "stdout",
     "output_type": "stream",
     "text": [
      "[[ 0.10724622 -0.07278026  0.00522762]\n",
      " [ 0.01206788 -0.2121446   0.1252337 ]\n",
      " [-0.1860868   0.19596548  0.14962287]]\n"
     ]
    }
   ],
   "source": [
    "kernel1=k1[:,:,0,0]\n",
    "print(kernel1)"
   ]
  },
  {
   "cell_type": "code",
   "execution_count": 91,
   "metadata": {
    "scrolled": false
   },
   "outputs": [
    {
     "data": {
      "image/png": "[encoded data removed]",
      "text/plain": [
       "<Figure size 432x288 with 1 Axes>"
      ]
     },
     "metadata": {
      "needs_background": "light"
     },
     "output_type": "display_data"
    }
   ],
   "source": [
    "kernel1=k1[:,:,0,0]\n",
    "plt.imshow(kernel1, cmap=\"gray\")\n",
    "#plt.axis('off')\n",
    "plt.show()"
   ]
  },
  {
   "cell_type": "code",
   "execution_count": 113,
   "metadata": {
    "scrolled": true
   },
   "outputs": [
    {
     "data": {
      "image/png": "[encoded data removed]",
      "text/plain": [
       "<Figure size 432x288 with 1 Axes>"
      ]
     },
     "metadata": {
      "needs_background": "light"
     },
     "output_type": "display_data"
    }
   ],
   "source": [
    "kernel2=k1[:,:,0,4]\n",
    "plt.imshow(kernel2, cmap=\"gray\")\n",
    "#plt.axis('off')\n",
    "plt.show()"
   ]
  },
  {
   "cell_type": "code",
   "execution_count": 114,
   "metadata": {},
   "outputs": [
    {
     "data": {
      "image/png": "[encoded data removed]",
      "text/plain": [
       "<Figure size 432x288 with 1 Axes>"
      ]
     },
     "metadata": {
      "needs_background": "light"
     },
     "output_type": "display_data"
    }
   ],
   "source": [
    "kernel4=k1[:,:,0,1]\n",
    "plt.imshow(kernel4, cmap=\"gray\")\n",
    "#plt.axis('off')\n",
    "plt.show()"
   ]
  },
  {
   "cell_type": "code",
   "execution_count": 116,
   "metadata": {},
   "outputs": [
    {
     "name": "stdout",
     "output_type": "stream",
     "text": [
      "Sample number is 59847\n",
      "\n"
     ]
    },
    {
     "data": {
      "image/png": "[encoded data removed]",
      "text/plain": [
       "<Figure size 432x288 with 3 Axes>"
      ]
     },
     "metadata": {
      "needs_background": "light"
     },
     "output_type": "display_data"
    }
   ],
   "source": [
    "import cv2\n",
    "sampleNo = np.random.randint(0,59999)\n",
    "print(f'Sample number is {sampleNo}\\n')\n",
    "\n",
    "\n",
    "sampleImg=X_train[2]\n",
    "filteredImage = cv2.filter2D(sampleImg,-1,kernel2)\n",
    "#resize\n",
    "\n",
    "fig,ax=plt.subplots(nrows=1,ncols=3)\n",
    "ax[0].imshow(sampleImg, cmap=\"gray\") \n",
    "ax[1].imshow(kernel1, cmap=\"gray\")\n",
    "ax[2].imshow(filteredImage, cmap=\"gray\")\n",
    "\n",
    "plt.show()"
   ]
  },
  {
   "cell_type": "markdown",
   "metadata": {},
   "source": [
    "Model configuration"
   ]
  },
  {
   "cell_type": "code",
   "execution_count": 70,
   "metadata": {},
   "outputs": [
    {
     "data": {
      "text/plain": [
       "{'name': 'sequential_3',\n",
       " 'layers': [{'class_name': 'Conv2D',\n",
       "   'config': {'name': 'conv2d_1',\n",
       "    'trainable': True,\n",
       "    'batch_input_shape': (None, 28, 28, 1),\n",
       "    'dtype': 'float32',\n",
       "    'filters': 10,\n",
       "    'kernel_size': (3, 3),\n",
       "    'strides': (1, 1),\n",
       "    'padding': 'valid',\n",
       "    'data_format': 'channels_last',\n",
       "    'dilation_rate': (1, 1),\n",
       "    'activation': 'relu',\n",
       "    'use_bias': True,\n",
       "    'kernel_initializer': {'class_name': 'VarianceScaling',\n",
       "     'config': {'scale': 1.0,\n",
       "      'mode': 'fan_avg',\n",
       "      'distribution': 'uniform',\n",
       "      'seed': None}},\n",
       "    'bias_initializer': {'class_name': 'Zeros', 'config': {}},\n",
       "    'kernel_regularizer': None,\n",
       "    'bias_regularizer': None,\n",
       "    'activity_regularizer': None,\n",
       "    'kernel_constraint': None,\n",
       "    'bias_constraint': None}},\n",
       "  {'class_name': 'Conv2D',\n",
       "   'config': {'name': 'conv2d_2',\n",
       "    'trainable': True,\n",
       "    'filters': 3,\n",
       "    'kernel_size': (3, 3),\n",
       "    'strides': (1, 1),\n",
       "    'padding': 'valid',\n",
       "    'data_format': 'channels_last',\n",
       "    'dilation_rate': (1, 1),\n",
       "    'activation': 'relu',\n",
       "    'use_bias': True,\n",
       "    'kernel_initializer': {'class_name': 'VarianceScaling',\n",
       "     'config': {'scale': 1.0,\n",
       "      'mode': 'fan_avg',\n",
       "      'distribution': 'uniform',\n",
       "      'seed': None}},\n",
       "    'bias_initializer': {'class_name': 'Zeros', 'config': {}},\n",
       "    'kernel_regularizer': None,\n",
       "    'bias_regularizer': None,\n",
       "    'activity_regularizer': None,\n",
       "    'kernel_constraint': None,\n",
       "    'bias_constraint': None}},\n",
       "  {'class_name': 'Flatten',\n",
       "   'config': {'name': 'flatten_1',\n",
       "    'trainable': True,\n",
       "    'data_format': 'channels_last'}},\n",
       "  {'class_name': 'Dense',\n",
       "   'config': {'name': 'dense_1',\n",
       "    'trainable': True,\n",
       "    'units': 128,\n",
       "    'activation': 'relu',\n",
       "    'use_bias': True,\n",
       "    'kernel_initializer': {'class_name': 'VarianceScaling',\n",
       "     'config': {'scale': 1.0,\n",
       "      'mode': 'fan_avg',\n",
       "      'distribution': 'uniform',\n",
       "      'seed': None}},\n",
       "    'bias_initializer': {'class_name': 'Zeros', 'config': {}},\n",
       "    'kernel_regularizer': None,\n",
       "    'bias_regularizer': None,\n",
       "    'activity_regularizer': None,\n",
       "    'kernel_constraint': None,\n",
       "    'bias_constraint': None}},\n",
       "  {'class_name': 'Dense',\n",
       "   'config': {'name': 'dense_2',\n",
       "    'trainable': True,\n",
       "    'units': 10,\n",
       "    'activation': 'softmax',\n",
       "    'use_bias': True,\n",
       "    'kernel_initializer': {'class_name': 'VarianceScaling',\n",
       "     'config': {'scale': 1.0,\n",
       "      'mode': 'fan_avg',\n",
       "      'distribution': 'uniform',\n",
       "      'seed': None}},\n",
       "    'bias_initializer': {'class_name': 'Zeros', 'config': {}},\n",
       "    'kernel_regularizer': None,\n",
       "    'bias_regularizer': None,\n",
       "    'activity_regularizer': None,\n",
       "    'kernel_constraint': None,\n",
       "    'bias_constraint': None}}]}"
      ]
     },
     "execution_count": 70,
     "metadata": {},
     "output_type": "execute_result"
    }
   ],
   "source": [
    "model.get_config()"
   ]
  },
  {
   "cell_type": "markdown",
   "metadata": {},
   "source": [
    "List all weight tensors in the model"
   ]
  },
  {
   "cell_type": "code",
   "execution_count": 95,
   "metadata": {},
   "outputs": [],
   "source": [
    "weg=model.get_weights()"
   ]
  },
  {
   "cell_type": "code",
   "execution_count": 96,
   "metadata": {},
   "outputs": [
    {
     "name": "stdout",
     "output_type": "stream",
     "text": [
      "<class 'list'>\n"
     ]
    }
   ],
   "source": [
    "print(type(weg))"
   ]
  },
  {
   "cell_type": "code",
   "execution_count": 97,
   "metadata": {},
   "outputs": [
    {
     "name": "stdout",
     "output_type": "stream",
     "text": [
      "[array([[[[ 0.03284264,  0.0535639 , -0.33902022,  0.2912787 ,\n",
      "           0.24894369,  0.32858965,  0.44737476, -0.10562371,\n",
      "          -0.40485913,  0.42744553]],\n",
      "\n",
      "        [[-0.11737894, -0.13661379, -0.04107858, -0.02910293,\n",
      "          -0.0224612 , -0.1551753 ,  0.13452406, -0.26861367,\n",
      "           0.07520234,  0.47106957]],\n",
      "\n",
      "        [[ 0.00464771, -0.13660483,  0.3065263 , -0.21748148,\n",
      "           0.26086536,  0.08394657, -0.25757617,  0.12910905,\n",
      "           0.1377086 ,  0.07679778]]],\n",
      "\n",
      "\n",
      "       [[[-0.13844962,  0.16326572, -0.03441856, -0.04197031,\n",
      "          -0.37574464, -0.22339967,  0.46839702, -0.12685469,\n",
      "          -0.52920306,  0.26055577]],\n",
      "\n",
      "        [[-0.2463698 ,  0.3626273 ,  0.06242082,  0.29719982,\n",
      "          -0.01392641,  0.07519634, -0.2554245 ,  0.13474734,\n",
      "          -0.2420523 , -0.20138511]],\n",
      "\n",
      "        [[ 0.23451902,  0.08096263,  0.17700723,  0.2556106 ,\n",
      "          -0.02923692,  0.2292134 , -0.4482447 ,  0.04273593,\n",
      "           0.41295436, -0.22342885]]],\n",
      "\n",
      "\n",
      "       [[[-0.16147082,  0.33563533,  0.07504027, -0.19176224,\n",
      "          -0.15646784, -0.08242942,  0.07828702,  0.09708557,\n",
      "          -0.33849895, -0.16982482]],\n",
      "\n",
      "        [[ 0.28762376,  0.07574346,  0.13562565, -0.04827655,\n",
      "          -0.33186084,  0.20788789, -0.62922364,  0.16947033,\n",
      "          -0.26420635, -0.24596515]],\n",
      "\n",
      "        [[ 0.27860615,  0.18031396, -0.02282198,  0.14506525,\n",
      "          -0.25640127, -0.16416065, -0.3281862 ,  0.15602103,\n",
      "           0.24704129, -0.4470829 ]]]], dtype=float32), array([-0.01405173, -0.00029757, -0.12841868, -0.03497516,  0.17160983,\n",
      "       -0.01491748,  0.11087148, -0.13282798, -0.03866719,  0.22589906],\n",
      "      dtype=float32), array([[[[ 2.87802368e-01,  3.20641659e-02,  8.26584641e-03],\n",
      "         [-1.40882051e-02,  2.25945830e-01, -2.77862191e-01],\n",
      "         [-2.09213957e-01,  1.28120288e-01,  1.43147726e-02],\n",
      "         [ 2.26537853e-01,  3.85714114e-01,  3.87654416e-02],\n",
      "         [-2.73736626e-01, -2.58838594e-01, -7.93076381e-02],\n",
      "         [ 2.03475893e-01,  3.12325954e-01,  4.59116325e-02],\n",
      "         [-4.04993057e-01, -1.38700038e-01, -5.13100438e-02],\n",
      "         [-7.30964914e-02,  2.48737037e-01, -1.83460668e-01],\n",
      "         [-1.59142777e-01, -1.14350207e-01,  1.81599334e-02],\n",
      "         [-3.18336546e-01,  1.44174367e-01, -2.61951350e-02]],\n",
      "\n",
      "        [[ 2.62045443e-01, -9.65835825e-02,  1.55831993e-01],\n",
      "         [ 1.68958813e-01,  1.82589486e-01, -3.59266438e-02],\n",
      "         [ 1.42775327e-01, -2.84064319e-02,  9.62362066e-02],\n",
      "         [-6.33065104e-02,  1.47764310e-01,  8.28900486e-02],\n",
      "         [-1.92432791e-01, -1.13910221e-01, -2.78399318e-01],\n",
      "         [-1.03353267e-03,  2.32395440e-01,  1.54635400e-01],\n",
      "         [-5.51673889e-01, -2.36544535e-01, -1.22355163e-01],\n",
      "         [-7.99188912e-02,  1.17740288e-01,  8.07040110e-02],\n",
      "         [ 7.00935349e-02,  3.39133978e-01,  1.37233436e-01],\n",
      "         [-3.20643514e-01, -1.58414543e-01,  5.41391112e-02]],\n",
      "\n",
      "        [[ 1.96262434e-01, -8.06847885e-02,  2.82129943e-01],\n",
      "         [ 2.79151171e-01,  1.06916226e-01,  1.11538984e-01],\n",
      "         [-2.20628306e-02, -3.74565214e-01,  3.19523513e-01],\n",
      "         [ 3.40745091e-01,  2.65442967e-01,  2.65269488e-01],\n",
      "         [-2.63498813e-01, -3.85647386e-01, -6.06391191e-01],\n",
      "         [ 1.57592520e-01, -2.18922216e-02,  2.04693034e-01],\n",
      "         [-6.69500291e-01, -1.12219803e-01, -1.48344208e-02],\n",
      "         [ 3.65979574e-03, -1.79803669e-01, -3.83757688e-02],\n",
      "         [-1.76851138e-01, -2.82620601e-02,  2.59663373e-01],\n",
      "         [-4.56449300e-01,  1.02181271e-01,  3.54978368e-02]]],\n",
      "\n",
      "\n",
      "       [[[-1.51589168e-02,  1.55727148e-01, -5.23215346e-02],\n",
      "         [ 2.50251502e-01, -1.83169141e-01, -1.69354677e-01],\n",
      "         [ 2.59574264e-01,  1.44683957e-01,  2.83553842e-02],\n",
      "         [-1.08327726e-02,  2.53213525e-01, -1.06407255e-01],\n",
      "         [ 4.07476723e-03,  6.83044665e-04, -1.94024816e-01],\n",
      "         [-1.68852299e-01,  1.20896444e-01,  1.79243967e-01],\n",
      "         [ 1.08393952e-01, -3.44085604e-01,  9.01181996e-03],\n",
      "         [ 4.94507737e-02, -1.55098841e-01,  1.87792122e-01],\n",
      "         [-2.00787276e-01,  1.18673317e-01, -2.33282655e-01],\n",
      "         [ 2.27125704e-01,  1.80948392e-01, -3.46147627e-01]],\n",
      "\n",
      "        [[-1.68817386e-01, -2.76336097e-03,  1.02758653e-01],\n",
      "         [-2.06705168e-01,  2.02500790e-01,  1.25944659e-01],\n",
      "         [ 6.30795509e-02, -1.53267846e-01,  2.35282585e-01],\n",
      "         [ 3.28637436e-02,  2.45549873e-01, -3.94324735e-02],\n",
      "         [ 9.88610908e-02,  2.55464818e-02, -5.63548326e-01],\n",
      "         [ 6.33816570e-02,  3.12692598e-02,  2.57948786e-01],\n",
      "         [ 3.22398469e-02, -3.70713502e-01,  1.03894554e-01],\n",
      "         [ 1.10974409e-01,  5.17182238e-02, -7.00231418e-02],\n",
      "         [-1.52733222e-01,  2.05224276e-01,  2.04905689e-01],\n",
      "         [-4.86682728e-02, -5.16410954e-02, -2.45759785e-01]],\n",
      "\n",
      "        [[-8.43043253e-02, -3.10513496e-01, -1.25363678e-01],\n",
      "         [-9.10194367e-02,  1.06415667e-01,  8.78698006e-02],\n",
      "         [-3.68051119e-02, -2.47237563e-01,  4.34750179e-03],\n",
      "         [ 1.66859373e-01,  7.99478963e-02, -6.90543652e-02],\n",
      "         [-2.40882281e-02,  2.09154680e-01, -5.69603741e-01],\n",
      "         [ 2.74480700e-01,  1.51762486e-01, -7.58714229e-02],\n",
      "         [-6.33159131e-02, -8.26145429e-03,  5.51200986e-01],\n",
      "         [ 1.66212827e-01, -1.72104836e-01,  1.06797576e-01],\n",
      "         [-2.00620487e-01,  5.33018410e-01,  4.51300502e-01],\n",
      "         [-8.73350799e-02, -1.26409516e-01,  2.57205963e-01]]],\n",
      "\n",
      "\n",
      "       [[[-3.98721904e-01, -1.92769110e-01,  1.03479698e-01],\n",
      "         [-1.41834930e-01, -2.63877064e-01,  7.53567135e-03],\n",
      "         [-7.42198620e-03, -1.18652254e-01, -1.20955653e-01],\n",
      "         [-1.17809691e-01, -2.48114944e-01, -9.30118114e-02],\n",
      "         [ 3.35303664e-01,  3.07778716e-01, -4.85430747e-01],\n",
      "         [-9.13711935e-02,  2.74824761e-02, -1.61794871e-01],\n",
      "         [ 4.89027575e-02, -8.20323303e-02, -1.59527630e-01],\n",
      "         [-1.92609146e-01, -2.08305448e-01,  3.43730599e-02],\n",
      "         [-2.19894007e-01,  2.27586940e-01, -1.92659616e-01],\n",
      "         [ 4.06976253e-01, -2.38136783e-01, -3.74604464e-02]],\n",
      "\n",
      "        [[-2.13255957e-01,  1.21111684e-01,  5.61086088e-02],\n",
      "         [-2.16152743e-02,  4.29609753e-02, -5.36647923e-02],\n",
      "         [-7.97367096e-02,  3.65416408e-02,  1.73857540e-01],\n",
      "         [-7.58802965e-02,  1.58498630e-01, -6.52725697e-02],\n",
      "         [ 4.47486080e-02,  1.20723851e-01, -4.23511684e-01],\n",
      "         [-4.12307680e-02, -8.37000608e-02, -2.15500847e-01],\n",
      "         [-4.69991602e-02, -6.87606275e-01,  2.96630621e-01],\n",
      "         [-3.13179642e-01, -1.07464381e-01,  9.64022428e-02],\n",
      "         [-4.21388626e-01,  3.35863858e-01,  3.49425256e-01],\n",
      "         [ 3.47380221e-01, -3.38416129e-01, -1.00134827e-01]],\n",
      "\n",
      "        [[ 1.42777294e-01, -6.94614835e-04,  1.21365108e-01],\n",
      "         [-2.32106313e-01, -4.31043981e-03,  5.69828227e-02],\n",
      "         [-1.66806921e-01, -1.04002051e-01,  3.33376020e-01],\n",
      "         [-1.96759343e-01, -1.33168176e-01, -4.37199660e-02],\n",
      "         [ 3.34301114e-01, -2.46949807e-01, -3.46225947e-01],\n",
      "         [-5.07519022e-02, -1.72807314e-02,  7.71880010e-03],\n",
      "         [-1.45762622e-01, -4.93365258e-01,  7.26126552e-01],\n",
      "         [ 6.58721838e-04, -1.33139119e-01, -1.28764480e-01],\n",
      "         [-3.65595251e-01,  6.58504069e-01,  3.02277297e-01],\n",
      "         [ 1.73973903e-01, -1.09659553e-01, -5.92457084e-03]]]],\n",
      "      dtype=float32), array([ 0.08065147, -0.01962775, -0.08138795], dtype=float32), array([[-0.09495533, -0.06012591, -0.04447929, ...,  0.07763945,\n",
      "        -0.09489898,  0.01781843],\n",
      "       [ 0.0114996 , -0.04586248, -0.0094437 , ..., -0.03926657,\n",
      "         0.03633155, -0.003005  ],\n",
      "       [ 0.04022756, -0.05005563,  0.02523109, ...,  0.00625161,\n",
      "         0.0156506 , -0.02608326],\n",
      "       ...,\n",
      "       [-0.0797089 ,  0.00247384, -0.02072808, ...,  0.06826945,\n",
      "        -0.06262009, -0.01864497],\n",
      "       [-0.04387818,  0.01818551,  0.02978693, ..., -0.01151292,\n",
      "         0.00463938,  0.06104528],\n",
      "       [ 0.04014293, -0.05112804, -0.02572595, ...,  0.01831689,\n",
      "        -0.05895721,  0.05137158]], dtype=float32), array([ 0.02855559, -0.05204764,  0.01731468, -0.00192509, -0.01461857,\n",
      "       -0.06802402, -0.01405724, -0.0344227 , -0.01276044, -0.01906265,\n",
      "       -0.01573949,  0.05408008,  0.00538355,  0.00651075, -0.00920673,\n",
      "        0.06397084,  0.00398017, -0.05262843,  0.03024774,  0.02750183,\n",
      "       -0.02293184,  0.01028323,  0.06397589,  0.06190534,  0.02248089,\n",
      "       -0.01015431,  0.059365  ,  0.03852273,  0.00870782, -0.02129482,\n",
      "       -0.00299402,  0.0042082 , -0.03155532,  0.00562299, -0.04295557,\n",
      "        0.00608728, -0.07626431, -0.05426266,  0.00567467, -0.01234808,\n",
      "       -0.05162349, -0.00388887,  0.02899279,  0.04116763,  0.01096018,\n",
      "        0.0118365 , -0.01659219, -0.04716494, -0.01005691, -0.05101245,\n",
      "       -0.05776252,  0.02204515, -0.00349175,  0.01560604, -0.02699501,\n",
      "        0.04123349,  0.00086097,  0.00966958, -0.05437089, -0.01592954,\n",
      "        0.02234377,  0.1037919 ,  0.04425615,  0.02343799,  0.06307688,\n",
      "       -0.01944109, -0.00769872, -0.02704155, -0.05701125,  0.01978475,\n",
      "       -0.0516113 ,  0.03077544,  0.00259504,  0.00752285, -0.04848548,\n",
      "        0.0289328 ,  0.03077919,  0.04068406, -0.03779474, -0.00589313,\n",
      "        0.02629413, -0.01283291,  0.03030563,  0.04353254,  0.01774575,\n",
      "       -0.03144152, -0.00729319,  0.00243434, -0.00858637, -0.00073196,\n",
      "       -0.01582436, -0.0154582 , -0.02500832,  0.06203671,  0.04038265,\n",
      "       -0.04238795, -0.02169116,  0.00130211, -0.00024012,  0.04197389,\n",
      "        0.03910203,  0.02229705, -0.02840953,  0.04542379,  0.04048499,\n",
      "        0.01405284,  0.02107477, -0.04343931,  0.05884169, -0.01011338,\n",
      "        0.05719432,  0.02643759,  0.0081172 ,  0.01034969, -0.01321883,\n",
      "       -0.02191328,  0.01354271, -0.0381639 , -0.03922446, -0.01460163,\n",
      "       -0.01821972,  0.00516856, -0.02777778,  0.05283823, -0.00289643,\n",
      "       -0.0089372 , -0.02244786, -0.00529513], dtype=float32), array([[-0.22373888,  0.10822199,  0.07339755, ...,  0.17510097,\n",
      "         0.24609299, -0.00755948],\n",
      "       [-0.04942565, -0.2240052 , -0.01391212, ..., -0.0717397 ,\n",
      "         0.14655054,  0.05887962],\n",
      "       [ 0.05678169, -0.05090905,  0.16413555, ...,  0.1254023 ,\n",
      "        -0.15431236, -0.2708371 ],\n",
      "       ...,\n",
      "       [ 0.1494412 ,  0.1827086 , -0.37564665, ..., -0.05485728,\n",
      "        -0.21799794,  0.12955494],\n",
      "       [-0.0078596 , -0.118481  ,  0.19355291, ...,  0.00825003,\n",
      "         0.09841054, -0.06295067],\n",
      "       [-0.12896611,  0.12319116,  0.17405145, ...,  0.11928526,\n",
      "         0.02161231, -0.2820799 ]], dtype=float32), array([-0.01283618,  0.00399709, -0.01248094, -0.00385214,  0.00569947,\n",
      "        0.0418608 , -0.06012912, -0.00301879,  0.05167759, -0.03645038],\n",
      "      dtype=float32)]\n"
     ]
    }
   ],
   "source": [
    "print(model.get_weights())"
   ]
  },
  {
   "cell_type": "markdown",
   "metadata": {},
   "source": [
    "## Fitting a neural network model to MNIST data\n",
    "Transform the data into the network's expected input and then fit the model on training data and training labels. Model fitting requires a training data set, together with the training labels to the network.\n",
    "\n",
    "#Fit the model on a training set\n",
    "model.fit(train_data, train_labels, \n",
    "          validation_split=0.2, \n",
    "          epochs=3, batch_size=10)"
   ]
  },
  {
   "cell_type": "code",
   "execution_count": 98,
   "metadata": {},
   "outputs": [
    {
     "name": "stdout",
     "output_type": "stream",
     "text": [
      "Train on 48000 samples, validate on 12000 samples\n",
      "Epoch 1/5\n",
      "48000/48000 [==============================] - 95s 2ms/step - loss: 0.0144 - acc: 0.9950 - val_loss: 0.0652 - val_acc: 0.9840\n",
      "Epoch 2/5\n",
      "48000/48000 [==============================] - 117s 2ms/step - loss: 0.0131 - acc: 0.9953 - val_loss: 0.0669 - val_acc: 0.9858\n",
      "Epoch 3/5\n",
      "48000/48000 [==============================] - 92s 2ms/step - loss: 0.0107 - acc: 0.9965 - val_loss: 0.0662 - val_acc: 0.9839\n",
      "Epoch 4/5\n",
      "48000/48000 [==============================] - 112s 2ms/step - loss: 0.0082 - acc: 0.9969 - val_loss: 0.0730 - val_acc: 0.9849\n",
      "Epoch 5/5\n",
      "48000/48000 [==============================] - 138s 3ms/step - loss: 0.0077 - acc: 0.9974 - val_loss: 0.0705 - val_acc: 0.9837\n"
     ]
    }
   ],
   "source": [
    "# Fit the model\n",
    "training=model.fit(x_train, Y_train, validation_split=0.2, epochs=5)"
   ]
  },
  {
   "cell_type": "markdown",
   "metadata": {},
   "source": [
    "To evaluate the model, we use a separate test data-set. As in the train data, the images in the test data also need to be reshaped before they can be provided to the fully-connected network because the network expects one column per pixel in the input."
   ]
  },
  {
   "cell_type": "code",
   "execution_count": 99,
   "metadata": {},
   "outputs": [
    {
     "name": "stdout",
     "output_type": "stream",
     "text": [
      "10000/10000 [==============================] - 16s 2ms/step\n",
      "Test loss: 0.06287402648411444\n",
      "Test accuracy: 0.9854\n"
     ]
    }
   ],
   "source": [
    "# Evaluate the model\n",
    "score=model.evaluate(x_test, Y_test)\n",
    "print('Test loss:', score[0])\n",
    "print('Test accuracy:', score[1])"
   ]
  },
  {
   "cell_type": "markdown",
   "metadata": {},
   "source": [
    "## Evaluating a CNN with test data\n",
    "To evaluate a trained neural network, you should provide a separate testing data set of labeled images. The model you fit in the previous exercise is available in your workspace.\n",
    "\n",
    "Evaluate the data on a separate test set: test_data and test_labels.\n",
    "Use the same batch size that was used for fitting (10 images per batch)."
   ]
  },
  {
   "cell_type": "code",
   "execution_count": 100,
   "metadata": {},
   "outputs": [
    {
     "name": "stdout",
     "output_type": "stream",
     "text": [
      "10000/10000 [==============================] - 22s 2ms/step\n"
     ]
    },
    {
     "data": {
      "text/plain": [
       "[0.06287402758247215, 0.9854000045061111]"
      ]
     },
     "execution_count": 100,
     "metadata": {},
     "output_type": "execute_result"
    }
   ],
   "source": [
    "# Evaluate the model on separate test data\n",
    "model.evaluate(x_test, Y_test, batch_size=10)"
   ]
  },
  {
   "cell_type": "markdown",
   "metadata": {},
   "source": [
    "## Plot the learning curves\n",
    "During learning, the model will store the loss function evaluated in each epoch. Looking at the learning curves can tell us quite a bit about the learning process. In this part we will plot the learning and validation loss curves for a model that you will train."
   ]
  },
  {
   "cell_type": "code",
   "execution_count": 101,
   "metadata": {},
   "outputs": [
    {
     "data": {
      "image/png": "[encoded data removed]",
      "text/plain": [
       "<Figure size 432x288 with 1 Axes>"
      ]
     },
     "metadata": {
      "needs_background": "light"
     },
     "output_type": "display_data"
    }
   ],
   "source": [
    "#import matplotlib.pyplot as plt\n",
    "\n",
    "# Extract the history from the training object\n",
    "history = training.history\n",
    "\n",
    "# Plot the training loss \n",
    "plt.plot(history['loss'])\n",
    "plt.ylabel('Loss')\n",
    "plt.xlabel('Epochs')\n",
    "\n",
    "# Show the figure\n",
    "plt.show()"
   ]
  },
  {
   "cell_type": "code",
   "execution_count": 102,
   "metadata": {
    "scrolled": true
   },
   "outputs": [
    {
     "data": {
      "image/png": "[encoded data removed]",
      "text/plain": [
       "<Figure size 432x288 with 1 Axes>"
      ]
     },
     "metadata": {
      "needs_background": "light"
     },
     "output_type": "display_data"
    }
   ],
   "source": [
    "#import matplotlib.pyplot as plt\n",
    "\n",
    "# Extract the history from the training object\n",
    "history = training.history\n",
    "\n",
    "# Plot the training loss \n",
    "plt.ylabel('val_loss')\n",
    "plt.xlabel('Epochs')\n",
    "# Plot the validation loss\n",
    "plt.plot(history['val_loss'])\n",
    "\n",
    "# Show the figure\n",
    "plt.show()"
   ]
  },
  {
   "cell_type": "code",
   "execution_count": 103,
   "metadata": {},
   "outputs": [
    {
     "data": {
      "image/png": "[encoded data removed]",
      "text/plain": [
       "<Figure size 432x288 with 1 Axes>"
      ]
     },
     "metadata": {
      "needs_background": "light"
     },
     "output_type": "display_data"
    }
   ],
   "source": [
    "plt.plot(training.history['acc'])\n",
    "plt.plot(training.history['val_acc'])\n",
    "plt.title('Model accuracy')\n",
    "plt.ylabel('Accuracy')\n",
    "plt.xlabel('Epoch')\n",
    "plt.legend(['Train', 'Test'], loc='upper left')\n",
    "plt.show()"
   ]
  },
  {
   "cell_type": "code",
   "execution_count": 104,
   "metadata": {},
   "outputs": [
    {
     "data": {
      "image/png": "[encoded data removed]",
      "text/plain": [
       "<Figure size 432x288 with 1 Axes>"
      ]
     },
     "metadata": {
      "needs_background": "light"
     },
     "output_type": "display_data"
    }
   ],
   "source": [
    "plt.plot(training.history['loss'])\n",
    "plt.plot(training.history['val_loss'])\n",
    "plt.title('Model loss')\n",
    "plt.ylabel('Loss')\n",
    "plt.xlabel('Epoch')\n",
    "plt.legend(['Train', 'Test'], loc='upper left')\n",
    "plt.show()"
   ]
  },
  {
   "cell_type": "code",
   "execution_count": 105,
   "metadata": {},
   "outputs": [],
   "source": [
    "prediction = model.predict_classes(x_test, verbose=0)\n",
    "submission = pd.DataFrame({\"ImageId\": list(range(1,len(prediction)+1)),\n",
    "                         \"Label\": prediction})\n",
    "submission.to_csv(\"submission.csv\", index=False, header=True)"
   ]
  },
  {
   "cell_type": "code",
   "execution_count": 124,
   "metadata": {
    "scrolled": true
   },
   "outputs": [
    {
     "name": "stdout",
     "output_type": "stream",
     "text": [
      "Sample number is 8217\n",
      "\n",
      "Image number 8217 in MNIST dataset has the following (28, 28)\n",
      "\n",
      "Shape of the image is (28, 28) and image is <class 'numpy.ndarray'> array\n",
      "\n"
     ]
    },
    {
     "data": {
      "image/png": "[encoded data removed]",
      "text/plain": [
       "<Figure size 432x288 with 1 Axes>"
      ]
     },
     "metadata": {
      "needs_background": "light"
     },
     "output_type": "display_data"
    },
    {
     "name": "stdout",
     "output_type": "stream",
     "text": [
      "[8]\n"
     ]
    }
   ],
   "source": [
    "# Plot a random image from the training set \n",
    "# np.random.randint returns random integers between 0 and 59999.\n",
    "sampleNo = np.random.randint(0,10000)\n",
    "print(f'Sample number is {sampleNo}\\n')\n",
    "sampleImg=X_test[sampleNo]\n",
    "print(f'Image number {sampleNo} in MNIST dataset has the following {sampleImg.shape}\\n')\n",
    "#print(sampleImg,'\\n')\n",
    "print(f'Shape of the image is {sampleImg.shape} and image is {type(sampleImg)} array\\n')\n",
    "plt.imshow(sampleImg, cmap=\"gray\")\n",
    "plt.show()\n",
    "\n",
    "prediction = model.predict_classes(x_test[[sampleNo],:,:,:], verbose=0)\n",
    "print(prediction)"
   ]
  },
  {
   "cell_type": "markdown",
   "metadata": {},
   "source": [
    "# Exercise"
   ]
  },
  {
   "cell_type": "markdown",
   "metadata": {},
   "source": [
    "### Add strides to a convolutional network\n",
    "The size of the strides of the convolution kernel determines whether the kernel will skip over some of the pixels as it slides along the image. This affects the size of the output because when strides are larger than one, the kernel will be centered on only some of the pixels. \n",
    "\n",
    "###  Calculate the size of convolutional layer output\n",
    "Zero padding and strides affect the size of the output of a convolution. What is the size of the output for an input of size 256 by 256, with 2 kernels of size 3 by 3, padding of 1 and strides of 2?\n",
    "\n",
    "###  How many parameters in the CNN?\n",
    "We need to know how many parameters a CNN has, so we can adjust the model architecture, to reduce this number or shift parameters from one part of the network to another. How many parameters would a network have if its inputs are images with 28-by-28 pixels, there is one convolutional layer with 10 units kernels of 3-by-3 pixels, using zero padding (input has the same size as the output), and one densely connected layer with 10 units?\n",
    "\n",
    "### How many parameters in the deep CNN?\n",
    "In this exercise, you will use Keras to calculate the total number of parameters along with the number of parameters in each layer of the network."
   ]
  },
  {
   "cell_type": "code",
   "execution_count": null,
   "metadata": {},
   "outputs": [],
   "source": []
  }
 ],
 "metadata": {
  "kernelspec": {
   "display_name": "Python 3",
   "language": "python",
   "name": "python3"
  },
  "language_info": {
   "codemirror_mode": {
    "name": "ipython",
    "version": 3
   },
   "file_extension": ".py",
   "mimetype": "text/x-python",
   "name": "python",
   "nbconvert_exporter": "python",
   "pygments_lexer": "ipython3",
   "version": "3.6.8"
  }
 },
 "nbformat": 4,
 "nbformat_minor": 2
}
